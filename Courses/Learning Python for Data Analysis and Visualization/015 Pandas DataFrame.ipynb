{
 "cells": [
  {
   "cell_type": "code",
   "execution_count": 2,
   "id": "708c7771-7f17-4ffb-8179-e305ad844fe5",
   "metadata": {
    "tags": []
   },
   "outputs": [],
   "source": [
    "import numpy as np\n",
    "import pandas as pd\n",
    "\n",
    "from pandas import Series,DataFrame"
   ]
  },
  {
   "cell_type": "code",
   "execution_count": 14,
   "id": "2b987683-2e2d-4a34-a47a-714a0994af34",
   "metadata": {
    "tags": []
   },
   "outputs": [
    {
     "data": {
      "text/plain": [
       "True"
      ]
     },
     "execution_count": 14,
     "metadata": {},
     "output_type": "execute_result"
    }
   ],
   "source": [
    "import webbrowser\n",
    "website='https://en.wikipedia.org/wiki/The_Rugby_Championship'\n",
    "webbrowser.open(website)"
   ]
  },
  {
   "cell_type": "code",
   "execution_count": 22,
   "id": "1aa6086e-7de8-4433-b166-cd3e70a35b29",
   "metadata": {
    "tags": []
   },
   "outputs": [],
   "source": [
    "#Headers cleaned prior to copying to clipboard\n",
    "rugby_frame = pd.read_clipboard()"
   ]
  },
  {
   "cell_type": "code",
   "execution_count": 24,
   "id": "3b81e8d9-4028-46d2-af2c-9e184a09ce0c",
   "metadata": {
    "tags": []
   },
   "outputs": [
    {
     "data": {
      "text/html": [
       "<div>\n",
       "<style scoped>\n",
       "    .dataframe tbody tr th:only-of-type {\n",
       "        vertical-align: middle;\n",
       "    }\n",
       "\n",
       "    .dataframe tbody tr th {\n",
       "        vertical-align: top;\n",
       "    }\n",
       "\n",
       "    .dataframe thead th {\n",
       "        text-align: right;\n",
       "    }\n",
       "</style>\n",
       "<table border=\"1\" class=\"dataframe\">\n",
       "  <thead>\n",
       "    <tr style=\"text-align: right;\">\n",
       "      <th></th>\n",
       "      <th>Nation</th>\n",
       "      <th>Played</th>\n",
       "      <th>Won</th>\n",
       "      <th>Draw</th>\n",
       "      <th>Lost</th>\n",
       "      <th>Points For</th>\n",
       "      <th>Points Against</th>\n",
       "      <th>Point Difference</th>\n",
       "      <th>Bonus Points</th>\n",
       "      <th>Table Points</th>\n",
       "      <th>Titles Won</th>\n",
       "    </tr>\n",
       "  </thead>\n",
       "  <tbody>\n",
       "    <tr>\n",
       "      <th>0</th>\n",
       "      <td>New Zealand</td>\n",
       "      <td>63</td>\n",
       "      <td>51</td>\n",
       "      <td>2</td>\n",
       "      <td>10</td>\n",
       "      <td>2,154</td>\n",
       "      <td>1,197</td>\n",
       "      <td>957</td>\n",
       "      <td>40</td>\n",
       "      <td>249</td>\n",
       "      <td>9</td>\n",
       "    </tr>\n",
       "    <tr>\n",
       "      <th>1</th>\n",
       "      <td>South Africa</td>\n",
       "      <td>63</td>\n",
       "      <td>33</td>\n",
       "      <td>4</td>\n",
       "      <td>26</td>\n",
       "      <td>1,637</td>\n",
       "      <td>1,383</td>\n",
       "      <td>254</td>\n",
       "      <td>30</td>\n",
       "      <td>166</td>\n",
       "      <td>2</td>\n",
       "    </tr>\n",
       "    <tr>\n",
       "      <th>2</th>\n",
       "      <td>Australia</td>\n",
       "      <td>63</td>\n",
       "      <td>26</td>\n",
       "      <td>3</td>\n",
       "      <td>34</td>\n",
       "      <td>1,411</td>\n",
       "      <td>1,735</td>\n",
       "      <td>−324</td>\n",
       "      <td>14</td>\n",
       "      <td>131</td>\n",
       "      <td>1</td>\n",
       "    </tr>\n",
       "    <tr>\n",
       "      <th>3</th>\n",
       "      <td>Argentina</td>\n",
       "      <td>63</td>\n",
       "      <td>12</td>\n",
       "      <td>1</td>\n",
       "      <td>50</td>\n",
       "      <td>1,196</td>\n",
       "      <td>2,063</td>\n",
       "      <td>−867</td>\n",
       "      <td>14</td>\n",
       "      <td>60</td>\n",
       "      <td>0</td>\n",
       "    </tr>\n",
       "  </tbody>\n",
       "</table>\n",
       "</div>"
      ],
      "text/plain": [
       "         Nation  Played  Won  Draw  Lost Points For Points Against  \\\n",
       "0   New Zealand      63   51     2    10      2,154          1,197   \n",
       "1  South Africa      63   33     4    26      1,637          1,383   \n",
       "2     Australia      63   26     3    34      1,411          1,735   \n",
       "3     Argentina      63   12     1    50      1,196          2,063   \n",
       "\n",
       "  Point Difference  Bonus Points  Table Points  Titles Won  \n",
       "0              957            40           249           9  \n",
       "1              254            30           166           2  \n",
       "2             −324            14           131           1  \n",
       "3             −867            14            60           0  "
      ]
     },
     "execution_count": 24,
     "metadata": {},
     "output_type": "execute_result"
    }
   ],
   "source": [
    "rugby_frame"
   ]
  },
  {
   "cell_type": "code",
   "execution_count": 26,
   "id": "bab58e22-ae98-4f64-acfb-fdf288e8ea44",
   "metadata": {
    "tags": []
   },
   "outputs": [
    {
     "data": {
      "text/plain": [
       "Index(['Nation', 'Played', 'Won', 'Draw', 'Lost', 'Points For',\n",
       "       'Points Against', 'Point Difference', 'Bonus Points', 'Table Points',\n",
       "       'Titles Won'],\n",
       "      dtype='object')"
      ]
     },
     "execution_count": 26,
     "metadata": {},
     "output_type": "execute_result"
    }
   ],
   "source": [
    "rugby_frame.columns"
   ]
  },
  {
   "cell_type": "code",
   "execution_count": 30,
   "id": "3b015eb2-ef24-4213-bf52-0f21951c722a",
   "metadata": {
    "tags": []
   },
   "outputs": [
    {
     "data": {
      "text/plain": [
       "0    51\n",
       "1    33\n",
       "2    26\n",
       "3    12\n",
       "Name: Won, dtype: int64"
      ]
     },
     "execution_count": 30,
     "metadata": {},
     "output_type": "execute_result"
    }
   ],
   "source": [
    "rugby_frame.Won"
   ]
  },
  {
   "cell_type": "code",
   "execution_count": 32,
   "id": "c0aaee9f-df74-4f97-814c-8c6be842cadd",
   "metadata": {
    "tags": []
   },
   "outputs": [
    {
     "data": {
      "text/plain": [
       "0    9\n",
       "1    2\n",
       "2    1\n",
       "3    0\n",
       "Name: Titles Won, dtype: int64"
      ]
     },
     "execution_count": 32,
     "metadata": {},
     "output_type": "execute_result"
    }
   ],
   "source": [
    "rugby_frame['Titles Won']"
   ]
  },
  {
   "cell_type": "code",
   "execution_count": 34,
   "id": "5bef2073-52d3-4cc0-89a9-6ad1cb7f0369",
   "metadata": {
    "tags": []
   },
   "outputs": [
    {
     "data": {
      "text/html": [
       "<div>\n",
       "<style scoped>\n",
       "    .dataframe tbody tr th:only-of-type {\n",
       "        vertical-align: middle;\n",
       "    }\n",
       "\n",
       "    .dataframe tbody tr th {\n",
       "        vertical-align: top;\n",
       "    }\n",
       "\n",
       "    .dataframe thead th {\n",
       "        text-align: right;\n",
       "    }\n",
       "</style>\n",
       "<table border=\"1\" class=\"dataframe\">\n",
       "  <thead>\n",
       "    <tr style=\"text-align: right;\">\n",
       "      <th></th>\n",
       "      <th>Nation</th>\n",
       "      <th>Played</th>\n",
       "      <th>Titles Won</th>\n",
       "    </tr>\n",
       "  </thead>\n",
       "  <tbody>\n",
       "    <tr>\n",
       "      <th>0</th>\n",
       "      <td>New Zealand</td>\n",
       "      <td>63</td>\n",
       "      <td>9</td>\n",
       "    </tr>\n",
       "    <tr>\n",
       "      <th>1</th>\n",
       "      <td>South Africa</td>\n",
       "      <td>63</td>\n",
       "      <td>2</td>\n",
       "    </tr>\n",
       "    <tr>\n",
       "      <th>2</th>\n",
       "      <td>Australia</td>\n",
       "      <td>63</td>\n",
       "      <td>1</td>\n",
       "    </tr>\n",
       "    <tr>\n",
       "      <th>3</th>\n",
       "      <td>Argentina</td>\n",
       "      <td>63</td>\n",
       "      <td>0</td>\n",
       "    </tr>\n",
       "  </tbody>\n",
       "</table>\n",
       "</div>"
      ],
      "text/plain": [
       "         Nation  Played  Titles Won\n",
       "0   New Zealand      63           9\n",
       "1  South Africa      63           2\n",
       "2     Australia      63           1\n",
       "3     Argentina      63           0"
      ]
     },
     "execution_count": 34,
     "metadata": {},
     "output_type": "execute_result"
    }
   ],
   "source": [
    "DataFrame(rugby_frame,columns=['Nation','Played','Titles Won'])"
   ]
  },
  {
   "cell_type": "code",
   "execution_count": 36,
   "id": "f07c7b52-40dd-455d-b848-7e33e5546a45",
   "metadata": {
    "tags": []
   },
   "outputs": [
    {
     "data": {
      "text/html": [
       "<div>\n",
       "<style scoped>\n",
       "    .dataframe tbody tr th:only-of-type {\n",
       "        vertical-align: middle;\n",
       "    }\n",
       "\n",
       "    .dataframe tbody tr th {\n",
       "        vertical-align: top;\n",
       "    }\n",
       "\n",
       "    .dataframe thead th {\n",
       "        text-align: right;\n",
       "    }\n",
       "</style>\n",
       "<table border=\"1\" class=\"dataframe\">\n",
       "  <thead>\n",
       "    <tr style=\"text-align: right;\">\n",
       "      <th></th>\n",
       "      <th>Nation</th>\n",
       "      <th>Played</th>\n",
       "      <th>Titles Won</th>\n",
       "      <th>First Season</th>\n",
       "    </tr>\n",
       "  </thead>\n",
       "  <tbody>\n",
       "    <tr>\n",
       "      <th>0</th>\n",
       "      <td>New Zealand</td>\n",
       "      <td>63</td>\n",
       "      <td>9</td>\n",
       "      <td>NaN</td>\n",
       "    </tr>\n",
       "    <tr>\n",
       "      <th>1</th>\n",
       "      <td>South Africa</td>\n",
       "      <td>63</td>\n",
       "      <td>2</td>\n",
       "      <td>NaN</td>\n",
       "    </tr>\n",
       "    <tr>\n",
       "      <th>2</th>\n",
       "      <td>Australia</td>\n",
       "      <td>63</td>\n",
       "      <td>1</td>\n",
       "      <td>NaN</td>\n",
       "    </tr>\n",
       "    <tr>\n",
       "      <th>3</th>\n",
       "      <td>Argentina</td>\n",
       "      <td>63</td>\n",
       "      <td>0</td>\n",
       "      <td>NaN</td>\n",
       "    </tr>\n",
       "  </tbody>\n",
       "</table>\n",
       "</div>"
      ],
      "text/plain": [
       "         Nation  Played  Titles Won  First Season\n",
       "0   New Zealand      63           9           NaN\n",
       "1  South Africa      63           2           NaN\n",
       "2     Australia      63           1           NaN\n",
       "3     Argentina      63           0           NaN"
      ]
     },
     "execution_count": 36,
     "metadata": {},
     "output_type": "execute_result"
    }
   ],
   "source": [
    "DataFrame(rugby_frame,columns=['Nation','Played','Titles Won','First Season'])"
   ]
  },
  {
   "cell_type": "code",
   "execution_count": 40,
   "id": "beed5b4a-f139-46f6-9580-c9699ea8a39b",
   "metadata": {
    "tags": []
   },
   "outputs": [
    {
     "data": {
      "text/html": [
       "<div>\n",
       "<style scoped>\n",
       "    .dataframe tbody tr th:only-of-type {\n",
       "        vertical-align: middle;\n",
       "    }\n",
       "\n",
       "    .dataframe tbody tr th {\n",
       "        vertical-align: top;\n",
       "    }\n",
       "\n",
       "    .dataframe thead th {\n",
       "        text-align: right;\n",
       "    }\n",
       "</style>\n",
       "<table border=\"1\" class=\"dataframe\">\n",
       "  <thead>\n",
       "    <tr style=\"text-align: right;\">\n",
       "      <th></th>\n",
       "      <th>Nation</th>\n",
       "      <th>Played</th>\n",
       "      <th>Won</th>\n",
       "      <th>Draw</th>\n",
       "      <th>Lost</th>\n",
       "      <th>Points For</th>\n",
       "      <th>Points Against</th>\n",
       "      <th>Point Difference</th>\n",
       "      <th>Bonus Points</th>\n",
       "      <th>Table Points</th>\n",
       "      <th>Titles Won</th>\n",
       "    </tr>\n",
       "  </thead>\n",
       "  <tbody>\n",
       "    <tr>\n",
       "      <th>0</th>\n",
       "      <td>New Zealand</td>\n",
       "      <td>63</td>\n",
       "      <td>51</td>\n",
       "      <td>2</td>\n",
       "      <td>10</td>\n",
       "      <td>2,154</td>\n",
       "      <td>1,197</td>\n",
       "      <td>957</td>\n",
       "      <td>40</td>\n",
       "      <td>249</td>\n",
       "      <td>9</td>\n",
       "    </tr>\n",
       "    <tr>\n",
       "      <th>1</th>\n",
       "      <td>South Africa</td>\n",
       "      <td>63</td>\n",
       "      <td>33</td>\n",
       "      <td>4</td>\n",
       "      <td>26</td>\n",
       "      <td>1,637</td>\n",
       "      <td>1,383</td>\n",
       "      <td>254</td>\n",
       "      <td>30</td>\n",
       "      <td>166</td>\n",
       "      <td>2</td>\n",
       "    </tr>\n",
       "    <tr>\n",
       "      <th>2</th>\n",
       "      <td>Australia</td>\n",
       "      <td>63</td>\n",
       "      <td>26</td>\n",
       "      <td>3</td>\n",
       "      <td>34</td>\n",
       "      <td>1,411</td>\n",
       "      <td>1,735</td>\n",
       "      <td>−324</td>\n",
       "      <td>14</td>\n",
       "      <td>131</td>\n",
       "      <td>1</td>\n",
       "    </tr>\n",
       "    <tr>\n",
       "      <th>3</th>\n",
       "      <td>Argentina</td>\n",
       "      <td>63</td>\n",
       "      <td>12</td>\n",
       "      <td>1</td>\n",
       "      <td>50</td>\n",
       "      <td>1,196</td>\n",
       "      <td>2,063</td>\n",
       "      <td>−867</td>\n",
       "      <td>14</td>\n",
       "      <td>60</td>\n",
       "      <td>0</td>\n",
       "    </tr>\n",
       "  </tbody>\n",
       "</table>\n",
       "</div>"
      ],
      "text/plain": [
       "         Nation  Played  Won  Draw  Lost Points For Points Against  \\\n",
       "0   New Zealand      63   51     2    10      2,154          1,197   \n",
       "1  South Africa      63   33     4    26      1,637          1,383   \n",
       "2     Australia      63   26     3    34      1,411          1,735   \n",
       "3     Argentina      63   12     1    50      1,196          2,063   \n",
       "\n",
       "  Point Difference  Bonus Points  Table Points  Titles Won  \n",
       "0              957            40           249           9  \n",
       "1              254            30           166           2  \n",
       "2             −324            14           131           1  \n",
       "3             −867            14            60           0  "
      ]
     },
     "execution_count": 40,
     "metadata": {},
     "output_type": "execute_result"
    }
   ],
   "source": [
    "rugby_frame.head()"
   ]
  },
  {
   "cell_type": "code",
   "execution_count": 42,
   "id": "92766dc0-ba36-4b24-90e1-38f48d2bdf6d",
   "metadata": {
    "tags": []
   },
   "outputs": [
    {
     "data": {
      "text/html": [
       "<div>\n",
       "<style scoped>\n",
       "    .dataframe tbody tr th:only-of-type {\n",
       "        vertical-align: middle;\n",
       "    }\n",
       "\n",
       "    .dataframe tbody tr th {\n",
       "        vertical-align: top;\n",
       "    }\n",
       "\n",
       "    .dataframe thead th {\n",
       "        text-align: right;\n",
       "    }\n",
       "</style>\n",
       "<table border=\"1\" class=\"dataframe\">\n",
       "  <thead>\n",
       "    <tr style=\"text-align: right;\">\n",
       "      <th></th>\n",
       "      <th>Nation</th>\n",
       "      <th>Played</th>\n",
       "      <th>Won</th>\n",
       "      <th>Draw</th>\n",
       "      <th>Lost</th>\n",
       "      <th>Points For</th>\n",
       "      <th>Points Against</th>\n",
       "      <th>Point Difference</th>\n",
       "      <th>Bonus Points</th>\n",
       "      <th>Table Points</th>\n",
       "      <th>Titles Won</th>\n",
       "    </tr>\n",
       "  </thead>\n",
       "  <tbody>\n",
       "    <tr>\n",
       "      <th>0</th>\n",
       "      <td>New Zealand</td>\n",
       "      <td>63</td>\n",
       "      <td>51</td>\n",
       "      <td>2</td>\n",
       "      <td>10</td>\n",
       "      <td>2,154</td>\n",
       "      <td>1,197</td>\n",
       "      <td>957</td>\n",
       "      <td>40</td>\n",
       "      <td>249</td>\n",
       "      <td>9</td>\n",
       "    </tr>\n",
       "    <tr>\n",
       "      <th>1</th>\n",
       "      <td>South Africa</td>\n",
       "      <td>63</td>\n",
       "      <td>33</td>\n",
       "      <td>4</td>\n",
       "      <td>26</td>\n",
       "      <td>1,637</td>\n",
       "      <td>1,383</td>\n",
       "      <td>254</td>\n",
       "      <td>30</td>\n",
       "      <td>166</td>\n",
       "      <td>2</td>\n",
       "    </tr>\n",
       "  </tbody>\n",
       "</table>\n",
       "</div>"
      ],
      "text/plain": [
       "         Nation  Played  Won  Draw  Lost Points For Points Against  \\\n",
       "0   New Zealand      63   51     2    10      2,154          1,197   \n",
       "1  South Africa      63   33     4    26      1,637          1,383   \n",
       "\n",
       "  Point Difference  Bonus Points  Table Points  Titles Won  \n",
       "0              957            40           249           9  \n",
       "1              254            30           166           2  "
      ]
     },
     "execution_count": 42,
     "metadata": {},
     "output_type": "execute_result"
    }
   ],
   "source": [
    "rugby_frame.head(2)"
   ]
  },
  {
   "cell_type": "code",
   "execution_count": 46,
   "id": "6d8b53ef-7c82-40b8-99b4-402d57e338bc",
   "metadata": {
    "tags": []
   },
   "outputs": [
    {
     "data": {
      "text/plain": [
       "Nation              Argentina\n",
       "Played                     63\n",
       "Won                        12\n",
       "Draw                        1\n",
       "Lost                       50\n",
       "Points For              1,196\n",
       "Points Against          2,063\n",
       "Point Difference         −867\n",
       "Bonus Points               14\n",
       "Table Points               60\n",
       "Titles Won                  0\n",
       "Name: 3, dtype: object"
      ]
     },
     "execution_count": 46,
     "metadata": {},
     "output_type": "execute_result"
    }
   ],
   "source": [
    "rugby_frame.loc[3]\n",
    "# rugby_frame.ix[3] - ix was removed from pandas"
   ]
  },
  {
   "cell_type": "code",
   "execution_count": 48,
   "id": "b03c4410-cd01-4c63-b98a-3617ce7b2624",
   "metadata": {
    "tags": []
   },
   "outputs": [],
   "source": [
    "rugby_frame['Stadium']='Westpac Stadium'"
   ]
  },
  {
   "cell_type": "code",
   "execution_count": 50,
   "id": "598c7fec-1aa5-4a55-b97d-72db0ab69b8e",
   "metadata": {
    "tags": []
   },
   "outputs": [
    {
     "data": {
      "text/html": [
       "<div>\n",
       "<style scoped>\n",
       "    .dataframe tbody tr th:only-of-type {\n",
       "        vertical-align: middle;\n",
       "    }\n",
       "\n",
       "    .dataframe tbody tr th {\n",
       "        vertical-align: top;\n",
       "    }\n",
       "\n",
       "    .dataframe thead th {\n",
       "        text-align: right;\n",
       "    }\n",
       "</style>\n",
       "<table border=\"1\" class=\"dataframe\">\n",
       "  <thead>\n",
       "    <tr style=\"text-align: right;\">\n",
       "      <th></th>\n",
       "      <th>Nation</th>\n",
       "      <th>Played</th>\n",
       "      <th>Won</th>\n",
       "      <th>Draw</th>\n",
       "      <th>Lost</th>\n",
       "      <th>Points For</th>\n",
       "      <th>Points Against</th>\n",
       "      <th>Point Difference</th>\n",
       "      <th>Bonus Points</th>\n",
       "      <th>Table Points</th>\n",
       "      <th>Titles Won</th>\n",
       "      <th>Stadium</th>\n",
       "    </tr>\n",
       "  </thead>\n",
       "  <tbody>\n",
       "    <tr>\n",
       "      <th>0</th>\n",
       "      <td>New Zealand</td>\n",
       "      <td>63</td>\n",
       "      <td>51</td>\n",
       "      <td>2</td>\n",
       "      <td>10</td>\n",
       "      <td>2,154</td>\n",
       "      <td>1,197</td>\n",
       "      <td>957</td>\n",
       "      <td>40</td>\n",
       "      <td>249</td>\n",
       "      <td>9</td>\n",
       "      <td>Westpac Stadium</td>\n",
       "    </tr>\n",
       "    <tr>\n",
       "      <th>1</th>\n",
       "      <td>South Africa</td>\n",
       "      <td>63</td>\n",
       "      <td>33</td>\n",
       "      <td>4</td>\n",
       "      <td>26</td>\n",
       "      <td>1,637</td>\n",
       "      <td>1,383</td>\n",
       "      <td>254</td>\n",
       "      <td>30</td>\n",
       "      <td>166</td>\n",
       "      <td>2</td>\n",
       "      <td>Westpac Stadium</td>\n",
       "    </tr>\n",
       "    <tr>\n",
       "      <th>2</th>\n",
       "      <td>Australia</td>\n",
       "      <td>63</td>\n",
       "      <td>26</td>\n",
       "      <td>3</td>\n",
       "      <td>34</td>\n",
       "      <td>1,411</td>\n",
       "      <td>1,735</td>\n",
       "      <td>−324</td>\n",
       "      <td>14</td>\n",
       "      <td>131</td>\n",
       "      <td>1</td>\n",
       "      <td>Westpac Stadium</td>\n",
       "    </tr>\n",
       "    <tr>\n",
       "      <th>3</th>\n",
       "      <td>Argentina</td>\n",
       "      <td>63</td>\n",
       "      <td>12</td>\n",
       "      <td>1</td>\n",
       "      <td>50</td>\n",
       "      <td>1,196</td>\n",
       "      <td>2,063</td>\n",
       "      <td>−867</td>\n",
       "      <td>14</td>\n",
       "      <td>60</td>\n",
       "      <td>0</td>\n",
       "      <td>Westpac Stadium</td>\n",
       "    </tr>\n",
       "  </tbody>\n",
       "</table>\n",
       "</div>"
      ],
      "text/plain": [
       "         Nation  Played  Won  Draw  Lost Points For Points Against  \\\n",
       "0   New Zealand      63   51     2    10      2,154          1,197   \n",
       "1  South Africa      63   33     4    26      1,637          1,383   \n",
       "2     Australia      63   26     3    34      1,411          1,735   \n",
       "3     Argentina      63   12     1    50      1,196          2,063   \n",
       "\n",
       "  Point Difference  Bonus Points  Table Points  Titles Won          Stadium  \n",
       "0              957            40           249           9  Westpac Stadium  \n",
       "1              254            30           166           2  Westpac Stadium  \n",
       "2             −324            14           131           1  Westpac Stadium  \n",
       "3             −867            14            60           0  Westpac Stadium  "
      ]
     },
     "execution_count": 50,
     "metadata": {},
     "output_type": "execute_result"
    }
   ],
   "source": [
    "rugby_frame"
   ]
  },
  {
   "cell_type": "code",
   "execution_count": 100,
   "id": "47950ac7-869c-4d1c-ab62-b7575c8e3414",
   "metadata": {
    "tags": []
   },
   "outputs": [],
   "source": [
    "rugby_frame['Stadium'] = np.arange(4)"
   ]
  },
  {
   "cell_type": "code",
   "execution_count": 102,
   "id": "22b50673-3495-423d-84da-b035ffa53516",
   "metadata": {
    "tags": []
   },
   "outputs": [
    {
     "data": {
      "text/html": [
       "<div>\n",
       "<style scoped>\n",
       "    .dataframe tbody tr th:only-of-type {\n",
       "        vertical-align: middle;\n",
       "    }\n",
       "\n",
       "    .dataframe tbody tr th {\n",
       "        vertical-align: top;\n",
       "    }\n",
       "\n",
       "    .dataframe thead th {\n",
       "        text-align: right;\n",
       "    }\n",
       "</style>\n",
       "<table border=\"1\" class=\"dataframe\">\n",
       "  <thead>\n",
       "    <tr style=\"text-align: right;\">\n",
       "      <th></th>\n",
       "      <th>Nation</th>\n",
       "      <th>Played</th>\n",
       "      <th>Won</th>\n",
       "      <th>Draw</th>\n",
       "      <th>Lost</th>\n",
       "      <th>Points For</th>\n",
       "      <th>Points Against</th>\n",
       "      <th>Point Difference</th>\n",
       "      <th>Bonus Points</th>\n",
       "      <th>Table Points</th>\n",
       "      <th>Titles Won</th>\n",
       "      <th>Stadium</th>\n",
       "    </tr>\n",
       "  </thead>\n",
       "  <tbody>\n",
       "    <tr>\n",
       "      <th>0</th>\n",
       "      <td>New Zealand</td>\n",
       "      <td>63</td>\n",
       "      <td>51</td>\n",
       "      <td>2</td>\n",
       "      <td>10</td>\n",
       "      <td>2,154</td>\n",
       "      <td>1,197</td>\n",
       "      <td>957</td>\n",
       "      <td>40</td>\n",
       "      <td>249</td>\n",
       "      <td>9</td>\n",
       "      <td>0</td>\n",
       "    </tr>\n",
       "    <tr>\n",
       "      <th>1</th>\n",
       "      <td>South Africa</td>\n",
       "      <td>63</td>\n",
       "      <td>33</td>\n",
       "      <td>4</td>\n",
       "      <td>26</td>\n",
       "      <td>1,637</td>\n",
       "      <td>1,383</td>\n",
       "      <td>254</td>\n",
       "      <td>30</td>\n",
       "      <td>166</td>\n",
       "      <td>2</td>\n",
       "      <td>1</td>\n",
       "    </tr>\n",
       "    <tr>\n",
       "      <th>2</th>\n",
       "      <td>Australia</td>\n",
       "      <td>63</td>\n",
       "      <td>26</td>\n",
       "      <td>3</td>\n",
       "      <td>34</td>\n",
       "      <td>1,411</td>\n",
       "      <td>1,735</td>\n",
       "      <td>−324</td>\n",
       "      <td>14</td>\n",
       "      <td>131</td>\n",
       "      <td>1</td>\n",
       "      <td>2</td>\n",
       "    </tr>\n",
       "    <tr>\n",
       "      <th>3</th>\n",
       "      <td>Argentina</td>\n",
       "      <td>63</td>\n",
       "      <td>12</td>\n",
       "      <td>1</td>\n",
       "      <td>50</td>\n",
       "      <td>1,196</td>\n",
       "      <td>2,063</td>\n",
       "      <td>−867</td>\n",
       "      <td>14</td>\n",
       "      <td>60</td>\n",
       "      <td>0</td>\n",
       "      <td>3</td>\n",
       "    </tr>\n",
       "  </tbody>\n",
       "</table>\n",
       "</div>"
      ],
      "text/plain": [
       "         Nation  Played  Won  Draw  Lost Points For Points Against  \\\n",
       "0   New Zealand      63   51     2    10      2,154          1,197   \n",
       "1  South Africa      63   33     4    26      1,637          1,383   \n",
       "2     Australia      63   26     3    34      1,411          1,735   \n",
       "3     Argentina      63   12     1    50      1,196          2,063   \n",
       "\n",
       "  Point Difference  Bonus Points  Table Points  Titles Won  Stadium  \n",
       "0              957            40           249           9        0  \n",
       "1              254            30           166           2        1  \n",
       "2             −324            14           131           1        2  \n",
       "3             −867            14            60           0        3  "
      ]
     },
     "execution_count": 102,
     "metadata": {},
     "output_type": "execute_result"
    }
   ],
   "source": [
    "rugby_frame"
   ]
  },
  {
   "cell_type": "code",
   "execution_count": 88,
   "id": "faefd22d-543b-430d-a551-b462c9fa25e6",
   "metadata": {
    "tags": []
   },
   "outputs": [],
   "source": [
    "stadiums = Series([\"Levi's Stadium\",'Westpac'],index=[3,0])"
   ]
  },
  {
   "cell_type": "code",
   "execution_count": 90,
   "id": "5b13d57f-47a6-4d38-a61a-2664f03cf5c1",
   "metadata": {
    "tags": []
   },
   "outputs": [
    {
     "data": {
      "text/plain": [
       "3    Levi's Stadium\n",
       "0           Westpac\n",
       "dtype: object"
      ]
     },
     "execution_count": 90,
     "metadata": {},
     "output_type": "execute_result"
    }
   ],
   "source": [
    "stadiums"
   ]
  },
  {
   "cell_type": "raw",
   "id": "321ecd1c-eced-4e52-b76a-4bbb8c319853",
   "metadata": {},
   "source": [
    "rugby_frame['Stadium'] = stadiums"
   ]
  },
  {
   "cell_type": "code",
   "execution_count": 104,
   "id": "b3680cea-ae33-4123-b1ce-eeab8a01d4d7",
   "metadata": {
    "tags": []
   },
   "outputs": [
    {
     "data": {
      "text/html": [
       "<div>\n",
       "<style scoped>\n",
       "    .dataframe tbody tr th:only-of-type {\n",
       "        vertical-align: middle;\n",
       "    }\n",
       "\n",
       "    .dataframe tbody tr th {\n",
       "        vertical-align: top;\n",
       "    }\n",
       "\n",
       "    .dataframe thead th {\n",
       "        text-align: right;\n",
       "    }\n",
       "</style>\n",
       "<table border=\"1\" class=\"dataframe\">\n",
       "  <thead>\n",
       "    <tr style=\"text-align: right;\">\n",
       "      <th></th>\n",
       "      <th>Nation</th>\n",
       "      <th>Played</th>\n",
       "      <th>Won</th>\n",
       "      <th>Draw</th>\n",
       "      <th>Lost</th>\n",
       "      <th>Points For</th>\n",
       "      <th>Points Against</th>\n",
       "      <th>Point Difference</th>\n",
       "      <th>Bonus Points</th>\n",
       "      <th>Table Points</th>\n",
       "      <th>Titles Won</th>\n",
       "      <th>Stadium</th>\n",
       "    </tr>\n",
       "  </thead>\n",
       "  <tbody>\n",
       "    <tr>\n",
       "      <th>0</th>\n",
       "      <td>New Zealand</td>\n",
       "      <td>63</td>\n",
       "      <td>51</td>\n",
       "      <td>2</td>\n",
       "      <td>10</td>\n",
       "      <td>2,154</td>\n",
       "      <td>1,197</td>\n",
       "      <td>957</td>\n",
       "      <td>40</td>\n",
       "      <td>249</td>\n",
       "      <td>9</td>\n",
       "      <td>0</td>\n",
       "    </tr>\n",
       "    <tr>\n",
       "      <th>1</th>\n",
       "      <td>South Africa</td>\n",
       "      <td>63</td>\n",
       "      <td>33</td>\n",
       "      <td>4</td>\n",
       "      <td>26</td>\n",
       "      <td>1,637</td>\n",
       "      <td>1,383</td>\n",
       "      <td>254</td>\n",
       "      <td>30</td>\n",
       "      <td>166</td>\n",
       "      <td>2</td>\n",
       "      <td>1</td>\n",
       "    </tr>\n",
       "    <tr>\n",
       "      <th>2</th>\n",
       "      <td>Australia</td>\n",
       "      <td>63</td>\n",
       "      <td>26</td>\n",
       "      <td>3</td>\n",
       "      <td>34</td>\n",
       "      <td>1,411</td>\n",
       "      <td>1,735</td>\n",
       "      <td>−324</td>\n",
       "      <td>14</td>\n",
       "      <td>131</td>\n",
       "      <td>1</td>\n",
       "      <td>2</td>\n",
       "    </tr>\n",
       "    <tr>\n",
       "      <th>3</th>\n",
       "      <td>Argentina</td>\n",
       "      <td>63</td>\n",
       "      <td>12</td>\n",
       "      <td>1</td>\n",
       "      <td>50</td>\n",
       "      <td>1,196</td>\n",
       "      <td>2,063</td>\n",
       "      <td>−867</td>\n",
       "      <td>14</td>\n",
       "      <td>60</td>\n",
       "      <td>0</td>\n",
       "      <td>3</td>\n",
       "    </tr>\n",
       "  </tbody>\n",
       "</table>\n",
       "</div>"
      ],
      "text/plain": [
       "         Nation  Played  Won  Draw  Lost Points For Points Against  \\\n",
       "0   New Zealand      63   51     2    10      2,154          1,197   \n",
       "1  South Africa      63   33     4    26      1,637          1,383   \n",
       "2     Australia      63   26     3    34      1,411          1,735   \n",
       "3     Argentina      63   12     1    50      1,196          2,063   \n",
       "\n",
       "  Point Difference  Bonus Points  Table Points  Titles Won  Stadium  \n",
       "0              957            40           249           9        0  \n",
       "1              254            30           166           2        1  \n",
       "2             −324            14           131           1        2  \n",
       "3             −867            14            60           0        3  "
      ]
     },
     "execution_count": 104,
     "metadata": {},
     "output_type": "execute_result"
    }
   ],
   "source": [
    "rugby_frame"
   ]
  },
  {
   "cell_type": "code",
   "execution_count": 106,
   "id": "d8ab1f3a-8071-43c7-815c-1db7f9b9fb9c",
   "metadata": {
    "tags": []
   },
   "outputs": [],
   "source": [
    "del rugby_frame['Stadium']"
   ]
  },
  {
   "cell_type": "code",
   "execution_count": 108,
   "id": "cedcd51b-ccd8-42e8-ad1f-185e5b7cc9e0",
   "metadata": {
    "tags": []
   },
   "outputs": [
    {
     "data": {
      "text/html": [
       "<div>\n",
       "<style scoped>\n",
       "    .dataframe tbody tr th:only-of-type {\n",
       "        vertical-align: middle;\n",
       "    }\n",
       "\n",
       "    .dataframe tbody tr th {\n",
       "        vertical-align: top;\n",
       "    }\n",
       "\n",
       "    .dataframe thead th {\n",
       "        text-align: right;\n",
       "    }\n",
       "</style>\n",
       "<table border=\"1\" class=\"dataframe\">\n",
       "  <thead>\n",
       "    <tr style=\"text-align: right;\">\n",
       "      <th></th>\n",
       "      <th>Nation</th>\n",
       "      <th>Played</th>\n",
       "      <th>Won</th>\n",
       "      <th>Draw</th>\n",
       "      <th>Lost</th>\n",
       "      <th>Points For</th>\n",
       "      <th>Points Against</th>\n",
       "      <th>Point Difference</th>\n",
       "      <th>Bonus Points</th>\n",
       "      <th>Table Points</th>\n",
       "      <th>Titles Won</th>\n",
       "    </tr>\n",
       "  </thead>\n",
       "  <tbody>\n",
       "    <tr>\n",
       "      <th>0</th>\n",
       "      <td>New Zealand</td>\n",
       "      <td>63</td>\n",
       "      <td>51</td>\n",
       "      <td>2</td>\n",
       "      <td>10</td>\n",
       "      <td>2,154</td>\n",
       "      <td>1,197</td>\n",
       "      <td>957</td>\n",
       "      <td>40</td>\n",
       "      <td>249</td>\n",
       "      <td>9</td>\n",
       "    </tr>\n",
       "    <tr>\n",
       "      <th>1</th>\n",
       "      <td>South Africa</td>\n",
       "      <td>63</td>\n",
       "      <td>33</td>\n",
       "      <td>4</td>\n",
       "      <td>26</td>\n",
       "      <td>1,637</td>\n",
       "      <td>1,383</td>\n",
       "      <td>254</td>\n",
       "      <td>30</td>\n",
       "      <td>166</td>\n",
       "      <td>2</td>\n",
       "    </tr>\n",
       "    <tr>\n",
       "      <th>2</th>\n",
       "      <td>Australia</td>\n",
       "      <td>63</td>\n",
       "      <td>26</td>\n",
       "      <td>3</td>\n",
       "      <td>34</td>\n",
       "      <td>1,411</td>\n",
       "      <td>1,735</td>\n",
       "      <td>−324</td>\n",
       "      <td>14</td>\n",
       "      <td>131</td>\n",
       "      <td>1</td>\n",
       "    </tr>\n",
       "    <tr>\n",
       "      <th>3</th>\n",
       "      <td>Argentina</td>\n",
       "      <td>63</td>\n",
       "      <td>12</td>\n",
       "      <td>1</td>\n",
       "      <td>50</td>\n",
       "      <td>1,196</td>\n",
       "      <td>2,063</td>\n",
       "      <td>−867</td>\n",
       "      <td>14</td>\n",
       "      <td>60</td>\n",
       "      <td>0</td>\n",
       "    </tr>\n",
       "  </tbody>\n",
       "</table>\n",
       "</div>"
      ],
      "text/plain": [
       "         Nation  Played  Won  Draw  Lost Points For Points Against  \\\n",
       "0   New Zealand      63   51     2    10      2,154          1,197   \n",
       "1  South Africa      63   33     4    26      1,637          1,383   \n",
       "2     Australia      63   26     3    34      1,411          1,735   \n",
       "3     Argentina      63   12     1    50      1,196          2,063   \n",
       "\n",
       "  Point Difference  Bonus Points  Table Points  Titles Won  \n",
       "0              957            40           249           9  \n",
       "1              254            30           166           2  \n",
       "2             −324            14           131           1  \n",
       "3             −867            14            60           0  "
      ]
     },
     "execution_count": 108,
     "metadata": {},
     "output_type": "execute_result"
    }
   ],
   "source": [
    "rugby_frame"
   ]
  },
  {
   "cell_type": "code",
   "execution_count": 110,
   "id": "e72d7f13-ade0-4b3d-b30c-5f4381ee38fc",
   "metadata": {
    "tags": []
   },
   "outputs": [],
   "source": [
    "data = {'City':['SF','LA','NYC'],'Population':[837000,3880000,8400000]}"
   ]
  },
  {
   "cell_type": "code",
   "execution_count": 112,
   "id": "3d6661df-abaf-409e-bbd2-07e05937c3f5",
   "metadata": {
    "tags": []
   },
   "outputs": [],
   "source": [
    "city_frame = DataFrame(data)"
   ]
  },
  {
   "cell_type": "code",
   "execution_count": 114,
   "id": "b4c9adf6-20d4-4326-8f77-d3ebddb47c2e",
   "metadata": {
    "tags": []
   },
   "outputs": [
    {
     "data": {
      "text/html": [
       "<div>\n",
       "<style scoped>\n",
       "    .dataframe tbody tr th:only-of-type {\n",
       "        vertical-align: middle;\n",
       "    }\n",
       "\n",
       "    .dataframe tbody tr th {\n",
       "        vertical-align: top;\n",
       "    }\n",
       "\n",
       "    .dataframe thead th {\n",
       "        text-align: right;\n",
       "    }\n",
       "</style>\n",
       "<table border=\"1\" class=\"dataframe\">\n",
       "  <thead>\n",
       "    <tr style=\"text-align: right;\">\n",
       "      <th></th>\n",
       "      <th>City</th>\n",
       "      <th>Population</th>\n",
       "    </tr>\n",
       "  </thead>\n",
       "  <tbody>\n",
       "    <tr>\n",
       "      <th>0</th>\n",
       "      <td>SF</td>\n",
       "      <td>837000</td>\n",
       "    </tr>\n",
       "    <tr>\n",
       "      <th>1</th>\n",
       "      <td>LA</td>\n",
       "      <td>3880000</td>\n",
       "    </tr>\n",
       "    <tr>\n",
       "      <th>2</th>\n",
       "      <td>NYC</td>\n",
       "      <td>8400000</td>\n",
       "    </tr>\n",
       "  </tbody>\n",
       "</table>\n",
       "</div>"
      ],
      "text/plain": [
       "  City  Population\n",
       "0   SF      837000\n",
       "1   LA     3880000\n",
       "2  NYC     8400000"
      ]
     },
     "execution_count": 114,
     "metadata": {},
     "output_type": "execute_result"
    }
   ],
   "source": [
    "city_frame"
   ]
  },
  {
   "cell_type": "code",
   "execution_count": 120,
   "id": "6911a530-4617-4a1c-88cc-2cf1b2b6e492",
   "metadata": {
    "tags": []
   },
   "outputs": [
    {
     "data": {
      "text/plain": [
       "True"
      ]
     },
     "execution_count": 120,
     "metadata": {},
     "output_type": "execute_result"
    }
   ],
   "source": [
    "website='https://pandas.pydata.org/pandas-docs/dev/reference/api/pandas.DataFrame.html'\n",
    "webbrowser.open(website)"
   ]
  },
  {
   "cell_type": "code",
   "execution_count": null,
   "id": "5b5e5713-f25f-4ced-b9a8-aefaccfa2c01",
   "metadata": {},
   "outputs": [],
   "source": []
  }
 ],
 "metadata": {
  "kernelspec": {
   "display_name": "Python 3 (ipykernel)",
   "language": "python",
   "name": "python3"
  },
  "language_info": {
   "codemirror_mode": {
    "name": "ipython",
    "version": 3
   },
   "file_extension": ".py",
   "mimetype": "text/x-python",
   "name": "python",
   "nbconvert_exporter": "python",
   "pygments_lexer": "ipython3",
   "version": "3.11.7"
  }
 },
 "nbformat": 4,
 "nbformat_minor": 5
}
