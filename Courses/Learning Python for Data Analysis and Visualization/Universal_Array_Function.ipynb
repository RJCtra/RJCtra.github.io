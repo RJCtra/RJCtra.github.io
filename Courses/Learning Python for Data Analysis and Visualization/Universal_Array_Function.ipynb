{
 "cells": [
  {
   "cell_type": "code",
   "execution_count": 6,
   "id": "b8e2573f-aa7f-41f6-b54d-4c9f97cf3be9",
   "metadata": {
    "tags": []
   },
   "outputs": [],
   "source": [
    "import numpy as np"
   ]
  },
  {
   "cell_type": "code",
   "execution_count": 11,
   "id": "dcb643bc-5800-4ab9-8257-59b131d7ed46",
   "metadata": {
    "tags": []
   },
   "outputs": [
    {
     "data": {
      "text/plain": [
       "array([[1, 2],\n",
       "       [3, 4],\n",
       "       [5, 6]])"
      ]
     },
     "execution_count": 11,
     "metadata": {},
     "output_type": "execute_result"
    }
   ],
   "source": [
    "arr = np.array([[1,2],[3,4],[5,6]])\n",
    "arr"
   ]
  },
  {
   "cell_type": "code",
   "execution_count": 13,
   "id": "2957070d-ca0f-4502-86ad-0f5d3a87a54d",
   "metadata": {
    "tags": []
   },
   "outputs": [
    {
     "data": {
      "text/plain": [
       "array([[1.        , 1.41421356],\n",
       "       [1.73205081, 2.        ],\n",
       "       [2.23606798, 2.44948974]])"
      ]
     },
     "execution_count": 13,
     "metadata": {},
     "output_type": "execute_result"
    }
   ],
   "source": [
    "#square root\n",
    "np.sqrt(arr)"
   ]
  },
  {
   "cell_type": "code",
   "execution_count": 16,
   "id": "345f7b75-e4c2-4986-8331-071f12d296ea",
   "metadata": {
    "tags": []
   },
   "outputs": [
    {
     "data": {
      "text/plain": [
       "array([[  2.71828183,   7.3890561 ],\n",
       "       [ 20.08553692,  54.59815003],\n",
       "       [148.4131591 , 403.42879349]])"
      ]
     },
     "execution_count": 16,
     "metadata": {},
     "output_type": "execute_result"
    }
   ],
   "source": [
    "#exponent\n",
    "np.exp(arr)"
   ]
  },
  {
   "cell_type": "code",
   "execution_count": 20,
   "id": "46f862b3-286b-4bbc-b8c5-2dcb27cea607",
   "metadata": {
    "tags": []
   },
   "outputs": [
    {
     "data": {
      "text/plain": [
       "array([ 0.3106976 , -0.0064216 , -0.32490841,  0.37536242, -0.66869948,\n",
       "       -0.17746513,  0.95376698, -0.95781032,  0.49206954, -0.73149748])"
      ]
     },
     "execution_count": 20,
     "metadata": {},
     "output_type": "execute_result"
    }
   ],
   "source": [
    "A = np.random.randn(10)\n",
    "\n",
    "A"
   ]
  },
  {
   "cell_type": "code",
   "execution_count": 23,
   "id": "c66050a7-96c0-45be-bd0a-181e32bc3b82",
   "metadata": {
    "tags": []
   },
   "outputs": [
    {
     "data": {
      "text/plain": [
       "array([ 1.11816665,  0.3117843 , -1.09621763,  0.20912942,  1.92831581,\n",
       "        0.61414678,  1.20320522, -2.14706914,  0.19046009,  0.32209739])"
      ]
     },
     "execution_count": 23,
     "metadata": {},
     "output_type": "execute_result"
    }
   ],
   "source": [
    "B = np.random.randn(10)\n",
    "\n",
    "B"
   ]
  },
  {
   "cell_type": "code",
   "execution_count": 26,
   "id": "4a0eece3-4edc-45c7-86d5-8a688ec57b6f",
   "metadata": {
    "tags": []
   },
   "outputs": [],
   "source": [
    "# Binary Functions"
   ]
  },
  {
   "cell_type": "code",
   "execution_count": 29,
   "id": "e9f30929-5a97-4f54-ae26-34813abe7993",
   "metadata": {
    "tags": []
   },
   "outputs": [
    {
     "data": {
      "text/plain": [
       "array([ 1.42886426,  0.3053627 , -1.42112605,  0.58449184,  1.25961633,\n",
       "        0.43668165,  2.1569722 , -3.10487946,  0.68252963, -0.4094001 ])"
      ]
     },
     "execution_count": 29,
     "metadata": {},
     "output_type": "execute_result"
    }
   ],
   "source": [
    "#Add arrays\n",
    "np.add(A,B)"
   ]
  },
  {
   "cell_type": "code",
   "execution_count": 32,
   "id": "3656ff83-fa7e-4c8b-9882-ca4407b46227",
   "metadata": {
    "tags": []
   },
   "outputs": [
    {
     "data": {
      "text/plain": [
       "array([ 1.11816665,  0.3117843 , -0.32490841,  0.37536242,  1.92831581,\n",
       "        0.61414678,  1.20320522, -0.95781032,  0.49206954,  0.32209739])"
      ]
     },
     "execution_count": 32,
     "metadata": {},
     "output_type": "execute_result"
    }
   ],
   "source": [
    "#find maximum \n",
    "np.maximum(A,B)"
   ]
  },
  {
   "cell_type": "code",
   "execution_count": 35,
   "id": "b1c74db0-1365-4106-86df-d226bd6308c2",
   "metadata": {
    "tags": []
   },
   "outputs": [
    {
     "data": {
      "text/plain": [
       "array([ 0.3106976 , -0.0064216 , -1.09621763,  0.20912942, -0.66869948,\n",
       "       -0.17746513,  0.95376698, -2.14706914,  0.19046009, -0.73149748])"
      ]
     },
     "execution_count": 35,
     "metadata": {},
     "output_type": "execute_result"
    }
   ],
   "source": [
    "#find maximum\n",
    "np.minimum(A,B)"
   ]
  },
  {
   "cell_type": "code",
   "execution_count": 38,
   "id": "571f8802-e023-4672-9dcc-d5b04747072b",
   "metadata": {
    "tags": []
   },
   "outputs": [
    {
     "data": {
      "text/plain": [
       "True"
      ]
     },
     "execution_count": 38,
     "metadata": {},
     "output_type": "execute_result"
    }
   ],
   "source": [
    "website = 'http://docs.scipy.org/doc/numpy/reference/ufuncs.html#available-ufuncs'\n",
    "import webbrowser\n",
    "webbrowser.open(website)"
   ]
  },
  {
   "cell_type": "code",
   "execution_count": null,
   "id": "4bc41d20-ea75-40c2-b8d6-d25e543c6318",
   "metadata": {},
   "outputs": [],
   "source": []
  }
 ],
 "metadata": {
  "kernelspec": {
   "display_name": "Python 3 (ipykernel)",
   "language": "python",
   "name": "python3"
  },
  "language_info": {
   "codemirror_mode": {
    "name": "ipython",
    "version": 3
   },
   "file_extension": ".py",
   "mimetype": "text/x-python",
   "name": "python",
   "nbconvert_exporter": "python",
   "pygments_lexer": "ipython3",
   "version": "3.11.7"
  }
 },
 "nbformat": 4,
 "nbformat_minor": 5
}
