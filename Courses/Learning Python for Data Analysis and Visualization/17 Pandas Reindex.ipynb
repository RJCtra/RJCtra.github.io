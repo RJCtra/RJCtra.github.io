{
 "cells": [
  {
   "cell_type": "code",
   "execution_count": 32,
   "id": "00b04d54-5f69-4483-b7cc-842de20f58d8",
   "metadata": {
    "tags": []
   },
   "outputs": [],
   "source": [
    "import numpy as np\n",
    "import pandas as pd\n",
    "\n",
    "from pandas import Series, DataFrame\n",
    "from numpy.random import randn"
   ]
  },
  {
   "cell_type": "code",
   "execution_count": 4,
   "id": "abd39c5a-926c-45a1-b52a-4e53ddbdfb0f",
   "metadata": {
    "tags": []
   },
   "outputs": [
    {
     "data": {
      "text/plain": [
       "A    1\n",
       "B    2\n",
       "C    3\n",
       "D    4\n",
       "dtype: int64"
      ]
     },
     "execution_count": 4,
     "metadata": {},
     "output_type": "execute_result"
    }
   ],
   "source": [
    "ser1 = Series([1,2,3,4],index=['A','B','C','D'])\n",
    "ser1"
   ]
  },
  {
   "cell_type": "code",
   "execution_count": 6,
   "id": "46875d6f-8a4f-43b7-8954-bb5564a8c02f",
   "metadata": {
    "tags": []
   },
   "outputs": [
    {
     "data": {
      "text/plain": [
       "A    1.0\n",
       "B    2.0\n",
       "C    3.0\n",
       "D    4.0\n",
       "E    NaN\n",
       "F    NaN\n",
       "dtype: float64"
      ]
     },
     "execution_count": 6,
     "metadata": {},
     "output_type": "execute_result"
    }
   ],
   "source": [
    "ser2 = ser1.reindex(['A','B','C','D','E','F'])\n",
    "ser2"
   ]
  },
  {
   "cell_type": "code",
   "execution_count": 8,
   "id": "76fd9a3b-88ac-4339-877e-8cf4365bd04d",
   "metadata": {
    "tags": []
   },
   "outputs": [
    {
     "data": {
      "text/plain": [
       "A    1.0\n",
       "B    2.0\n",
       "C    3.0\n",
       "D    4.0\n",
       "E    NaN\n",
       "F    NaN\n",
       "G    0.0\n",
       "dtype: float64"
      ]
     },
     "execution_count": 8,
     "metadata": {},
     "output_type": "execute_result"
    }
   ],
   "source": [
    "ser2.reindex(['A','B','C','D','E','F','G'],fill_value=0)"
   ]
  },
  {
   "cell_type": "code",
   "execution_count": 10,
   "id": "a386f23b-6ef0-4a02-98a0-e668cdba191f",
   "metadata": {
    "tags": []
   },
   "outputs": [
    {
     "data": {
      "text/plain": [
       "0        USA\n",
       "5     Mexico\n",
       "10    Canada\n",
       "dtype: object"
      ]
     },
     "execution_count": 10,
     "metadata": {},
     "output_type": "execute_result"
    }
   ],
   "source": [
    "ser3 = Series(['USA','Mexico','Canada'],index=[0,5,10])\n",
    "ser3"
   ]
  },
  {
   "cell_type": "code",
   "execution_count": 24,
   "id": "a1274ce3-3861-46cf-b1cf-a9bc142e1773",
   "metadata": {
    "tags": []
   },
   "outputs": [
    {
     "data": {
      "text/plain": [
       "range(0, 15)"
      ]
     },
     "execution_count": 24,
     "metadata": {},
     "output_type": "execute_result"
    }
   ],
   "source": [
    "# not in python 3 - not automatically creating a list\n",
    "#ranger = range(0,15,1)\n",
    "#ranger"
   ]
  },
  {
   "cell_type": "code",
   "execution_count": 38,
   "id": "50ccadab-84fb-482b-a254-4a7720602abf",
   "metadata": {
    "tags": []
   },
   "outputs": [
    {
     "data": {
      "text/plain": [
       "[0, 1, 2, 3, 4, 5, 6, 7, 8, 9, 10, 11, 12, 13, 14]"
      ]
     },
     "execution_count": 38,
     "metadata": {},
     "output_type": "execute_result"
    }
   ],
   "source": [
    "ranger = list(range(15))\n",
    "ranger"
   ]
  },
  {
   "cell_type": "code",
   "execution_count": 40,
   "id": "4723cd1f-7dc1-445b-a6d3-0e5c0cf68c15",
   "metadata": {
    "tags": []
   },
   "outputs": [
    {
     "data": {
      "text/plain": [
       "0        USA\n",
       "1        USA\n",
       "2        USA\n",
       "3        USA\n",
       "4        USA\n",
       "5     Mexico\n",
       "6     Mexico\n",
       "7     Mexico\n",
       "8     Mexico\n",
       "9     Mexico\n",
       "10    Canada\n",
       "11    Canada\n",
       "12    Canada\n",
       "13    Canada\n",
       "14    Canada\n",
       "dtype: object"
      ]
     },
     "execution_count": 40,
     "metadata": {},
     "output_type": "execute_result"
    }
   ],
   "source": [
    "ser3.reindex(ranger,method='ffill')\n"
   ]
  },
  {
   "cell_type": "code",
   "execution_count": 42,
   "id": "100854a1-6628-46fe-bfb7-5eb368bc481e",
   "metadata": {
    "tags": []
   },
   "outputs": [],
   "source": [
    "dframe = DataFrame(randn(25).reshape((5,5)),index=['A','B','D','E','F'],columns=['col1','col2','col3','col4','col5'])"
   ]
  },
  {
   "cell_type": "code",
   "execution_count": 44,
   "id": "ae3d7dae-8886-40a9-9e94-33b8077399e1",
   "metadata": {
    "tags": []
   },
   "outputs": [
    {
     "data": {
      "text/html": [
       "<div>\n",
       "<style scoped>\n",
       "    .dataframe tbody tr th:only-of-type {\n",
       "        vertical-align: middle;\n",
       "    }\n",
       "\n",
       "    .dataframe tbody tr th {\n",
       "        vertical-align: top;\n",
       "    }\n",
       "\n",
       "    .dataframe thead th {\n",
       "        text-align: right;\n",
       "    }\n",
       "</style>\n",
       "<table border=\"1\" class=\"dataframe\">\n",
       "  <thead>\n",
       "    <tr style=\"text-align: right;\">\n",
       "      <th></th>\n",
       "      <th>col1</th>\n",
       "      <th>col2</th>\n",
       "      <th>col3</th>\n",
       "      <th>col4</th>\n",
       "      <th>col5</th>\n",
       "    </tr>\n",
       "  </thead>\n",
       "  <tbody>\n",
       "    <tr>\n",
       "      <th>A</th>\n",
       "      <td>0.269065</td>\n",
       "      <td>-1.291232</td>\n",
       "      <td>-0.224662</td>\n",
       "      <td>-0.269469</td>\n",
       "      <td>0.626037</td>\n",
       "    </tr>\n",
       "    <tr>\n",
       "      <th>B</th>\n",
       "      <td>-0.213712</td>\n",
       "      <td>-0.205710</td>\n",
       "      <td>-0.296382</td>\n",
       "      <td>-1.184760</td>\n",
       "      <td>1.094410</td>\n",
       "    </tr>\n",
       "    <tr>\n",
       "      <th>D</th>\n",
       "      <td>-0.902101</td>\n",
       "      <td>-0.510341</td>\n",
       "      <td>1.375222</td>\n",
       "      <td>-0.140472</td>\n",
       "      <td>1.529562</td>\n",
       "    </tr>\n",
       "    <tr>\n",
       "      <th>E</th>\n",
       "      <td>0.026642</td>\n",
       "      <td>-0.735863</td>\n",
       "      <td>-0.865818</td>\n",
       "      <td>0.944026</td>\n",
       "      <td>-0.183984</td>\n",
       "    </tr>\n",
       "    <tr>\n",
       "      <th>F</th>\n",
       "      <td>-0.684484</td>\n",
       "      <td>-0.385452</td>\n",
       "      <td>-1.238031</td>\n",
       "      <td>-0.487521</td>\n",
       "      <td>-0.552315</td>\n",
       "    </tr>\n",
       "  </tbody>\n",
       "</table>\n",
       "</div>"
      ],
      "text/plain": [
       "       col1      col2      col3      col4      col5\n",
       "A  0.269065 -1.291232 -0.224662 -0.269469  0.626037\n",
       "B -0.213712 -0.205710 -0.296382 -1.184760  1.094410\n",
       "D -0.902101 -0.510341  1.375222 -0.140472  1.529562\n",
       "E  0.026642 -0.735863 -0.865818  0.944026 -0.183984\n",
       "F -0.684484 -0.385452 -1.238031 -0.487521 -0.552315"
      ]
     },
     "execution_count": 44,
     "metadata": {},
     "output_type": "execute_result"
    }
   ],
   "source": [
    "dframe"
   ]
  },
  {
   "cell_type": "code",
   "execution_count": 46,
   "id": "ab752c84-355f-46d4-87db-d4af6aae0455",
   "metadata": {
    "tags": []
   },
   "outputs": [],
   "source": [
    "dframe2 = dframe.reindex(['A','B','C','D','E','F'])"
   ]
  },
  {
   "cell_type": "code",
   "execution_count": 48,
   "id": "b7d94801-85a8-4cef-8f04-2347d5ae019f",
   "metadata": {
    "tags": []
   },
   "outputs": [
    {
     "data": {
      "text/html": [
       "<div>\n",
       "<style scoped>\n",
       "    .dataframe tbody tr th:only-of-type {\n",
       "        vertical-align: middle;\n",
       "    }\n",
       "\n",
       "    .dataframe tbody tr th {\n",
       "        vertical-align: top;\n",
       "    }\n",
       "\n",
       "    .dataframe thead th {\n",
       "        text-align: right;\n",
       "    }\n",
       "</style>\n",
       "<table border=\"1\" class=\"dataframe\">\n",
       "  <thead>\n",
       "    <tr style=\"text-align: right;\">\n",
       "      <th></th>\n",
       "      <th>col1</th>\n",
       "      <th>col2</th>\n",
       "      <th>col3</th>\n",
       "      <th>col4</th>\n",
       "      <th>col5</th>\n",
       "    </tr>\n",
       "  </thead>\n",
       "  <tbody>\n",
       "    <tr>\n",
       "      <th>A</th>\n",
       "      <td>0.269065</td>\n",
       "      <td>-1.291232</td>\n",
       "      <td>-0.224662</td>\n",
       "      <td>-0.269469</td>\n",
       "      <td>0.626037</td>\n",
       "    </tr>\n",
       "    <tr>\n",
       "      <th>B</th>\n",
       "      <td>-0.213712</td>\n",
       "      <td>-0.205710</td>\n",
       "      <td>-0.296382</td>\n",
       "      <td>-1.184760</td>\n",
       "      <td>1.094410</td>\n",
       "    </tr>\n",
       "    <tr>\n",
       "      <th>C</th>\n",
       "      <td>NaN</td>\n",
       "      <td>NaN</td>\n",
       "      <td>NaN</td>\n",
       "      <td>NaN</td>\n",
       "      <td>NaN</td>\n",
       "    </tr>\n",
       "    <tr>\n",
       "      <th>D</th>\n",
       "      <td>-0.902101</td>\n",
       "      <td>-0.510341</td>\n",
       "      <td>1.375222</td>\n",
       "      <td>-0.140472</td>\n",
       "      <td>1.529562</td>\n",
       "    </tr>\n",
       "    <tr>\n",
       "      <th>E</th>\n",
       "      <td>0.026642</td>\n",
       "      <td>-0.735863</td>\n",
       "      <td>-0.865818</td>\n",
       "      <td>0.944026</td>\n",
       "      <td>-0.183984</td>\n",
       "    </tr>\n",
       "    <tr>\n",
       "      <th>F</th>\n",
       "      <td>-0.684484</td>\n",
       "      <td>-0.385452</td>\n",
       "      <td>-1.238031</td>\n",
       "      <td>-0.487521</td>\n",
       "      <td>-0.552315</td>\n",
       "    </tr>\n",
       "  </tbody>\n",
       "</table>\n",
       "</div>"
      ],
      "text/plain": [
       "       col1      col2      col3      col4      col5\n",
       "A  0.269065 -1.291232 -0.224662 -0.269469  0.626037\n",
       "B -0.213712 -0.205710 -0.296382 -1.184760  1.094410\n",
       "C       NaN       NaN       NaN       NaN       NaN\n",
       "D -0.902101 -0.510341  1.375222 -0.140472  1.529562\n",
       "E  0.026642 -0.735863 -0.865818  0.944026 -0.183984\n",
       "F -0.684484 -0.385452 -1.238031 -0.487521 -0.552315"
      ]
     },
     "execution_count": 48,
     "metadata": {},
     "output_type": "execute_result"
    }
   ],
   "source": [
    "dframe2"
   ]
  },
  {
   "cell_type": "code",
   "execution_count": 50,
   "id": "dc96cf5f-eb15-4c46-9fd4-280483fca129",
   "metadata": {
    "tags": []
   },
   "outputs": [],
   "source": [
    "new_columns = ['col1','col2','col3','col4','col5','col6']"
   ]
  },
  {
   "cell_type": "code",
   "execution_count": 52,
   "id": "701a55aa-f9d0-4825-b92c-7dba11aa10cc",
   "metadata": {
    "tags": []
   },
   "outputs": [
    {
     "data": {
      "text/html": [
       "<div>\n",
       "<style scoped>\n",
       "    .dataframe tbody tr th:only-of-type {\n",
       "        vertical-align: middle;\n",
       "    }\n",
       "\n",
       "    .dataframe tbody tr th {\n",
       "        vertical-align: top;\n",
       "    }\n",
       "\n",
       "    .dataframe thead th {\n",
       "        text-align: right;\n",
       "    }\n",
       "</style>\n",
       "<table border=\"1\" class=\"dataframe\">\n",
       "  <thead>\n",
       "    <tr style=\"text-align: right;\">\n",
       "      <th></th>\n",
       "      <th>col1</th>\n",
       "      <th>col2</th>\n",
       "      <th>col3</th>\n",
       "      <th>col4</th>\n",
       "      <th>col5</th>\n",
       "      <th>col6</th>\n",
       "    </tr>\n",
       "  </thead>\n",
       "  <tbody>\n",
       "    <tr>\n",
       "      <th>A</th>\n",
       "      <td>0.269065</td>\n",
       "      <td>-1.291232</td>\n",
       "      <td>-0.224662</td>\n",
       "      <td>-0.269469</td>\n",
       "      <td>0.626037</td>\n",
       "      <td>NaN</td>\n",
       "    </tr>\n",
       "    <tr>\n",
       "      <th>B</th>\n",
       "      <td>-0.213712</td>\n",
       "      <td>-0.205710</td>\n",
       "      <td>-0.296382</td>\n",
       "      <td>-1.184760</td>\n",
       "      <td>1.094410</td>\n",
       "      <td>NaN</td>\n",
       "    </tr>\n",
       "    <tr>\n",
       "      <th>C</th>\n",
       "      <td>NaN</td>\n",
       "      <td>NaN</td>\n",
       "      <td>NaN</td>\n",
       "      <td>NaN</td>\n",
       "      <td>NaN</td>\n",
       "      <td>NaN</td>\n",
       "    </tr>\n",
       "    <tr>\n",
       "      <th>D</th>\n",
       "      <td>-0.902101</td>\n",
       "      <td>-0.510341</td>\n",
       "      <td>1.375222</td>\n",
       "      <td>-0.140472</td>\n",
       "      <td>1.529562</td>\n",
       "      <td>NaN</td>\n",
       "    </tr>\n",
       "    <tr>\n",
       "      <th>E</th>\n",
       "      <td>0.026642</td>\n",
       "      <td>-0.735863</td>\n",
       "      <td>-0.865818</td>\n",
       "      <td>0.944026</td>\n",
       "      <td>-0.183984</td>\n",
       "      <td>NaN</td>\n",
       "    </tr>\n",
       "    <tr>\n",
       "      <th>F</th>\n",
       "      <td>-0.684484</td>\n",
       "      <td>-0.385452</td>\n",
       "      <td>-1.238031</td>\n",
       "      <td>-0.487521</td>\n",
       "      <td>-0.552315</td>\n",
       "      <td>NaN</td>\n",
       "    </tr>\n",
       "  </tbody>\n",
       "</table>\n",
       "</div>"
      ],
      "text/plain": [
       "       col1      col2      col3      col4      col5  col6\n",
       "A  0.269065 -1.291232 -0.224662 -0.269469  0.626037   NaN\n",
       "B -0.213712 -0.205710 -0.296382 -1.184760  1.094410   NaN\n",
       "C       NaN       NaN       NaN       NaN       NaN   NaN\n",
       "D -0.902101 -0.510341  1.375222 -0.140472  1.529562   NaN\n",
       "E  0.026642 -0.735863 -0.865818  0.944026 -0.183984   NaN\n",
       "F -0.684484 -0.385452 -1.238031 -0.487521 -0.552315   NaN"
      ]
     },
     "execution_count": 52,
     "metadata": {},
     "output_type": "execute_result"
    }
   ],
   "source": [
    "dframe2.reindex(columns=new_columns)"
   ]
  },
  {
   "cell_type": "code",
   "execution_count": null,
   "id": "1dce2cf0-a558-41b5-92e7-57f509a1261a",
   "metadata": {},
   "outputs": [],
   "source": []
  }
 ],
 "metadata": {
  "kernelspec": {
   "display_name": "Python 3 (ipykernel)",
   "language": "python",
   "name": "python3"
  },
  "language_info": {
   "codemirror_mode": {
    "name": "ipython",
    "version": 3
   },
   "file_extension": ".py",
   "mimetype": "text/x-python",
   "name": "python",
   "nbconvert_exporter": "python",
   "pygments_lexer": "ipython3",
   "version": "3.11.7"
  }
 },
 "nbformat": 4,
 "nbformat_minor": 5
}
