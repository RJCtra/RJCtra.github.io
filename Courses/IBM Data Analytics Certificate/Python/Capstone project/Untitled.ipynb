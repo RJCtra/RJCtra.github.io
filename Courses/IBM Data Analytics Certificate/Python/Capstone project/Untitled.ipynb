{
 "cells": [
  {
   "cell_type": "code",
   "execution_count": 1,
   "id": "686722a9-1e2f-4d78-b19b-16076495d0d8",
   "metadata": {},
   "outputs": [],
   "source": [
    "from bs4 import BeautifulSoup # this module helps in web scrapping.\n",
    "import requests  # this module helps us to download a web page"
   ]
  },
  {
   "cell_type": "code",
   "execution_count": 3,
   "id": "cfd5de80-484b-4242-8006-9311dbdba349",
   "metadata": {},
   "outputs": [],
   "source": [
    "url = \"https://www.stuff.co.nz/nz-news/350236655/bereaved-mother-do-not-make-suicide-political-football\"\n"
   ]
  },
  {
   "cell_type": "code",
   "execution_count": 7,
   "id": "d2b1e117-140a-4fee-a1eb-8a83f0b3931b",
   "metadata": {},
   "outputs": [],
   "source": [
    "data  = requests.get(url).text \n",
    "soup = BeautifulSoup(data,\"html5lib\") \n",
    "for link in soup.find_all('a'):  # in html anchor/link is represented by the tag <a>\n",
    "    print(link.get('href'))"
   ]
  },
  {
   "cell_type": "code",
   "execution_count": 6,
   "id": "5dea5f6e-706f-4a3e-b397-9197ca10039a",
   "metadata": {},
   "outputs": [],
   "source": [
    "for link in soup.find_all('img'):# in html image is represented by the tag <img>\n",
    "    print(link.get('src'))"
   ]
  },
  {
   "cell_type": "code",
   "execution_count": null,
   "id": "9fc0e425-3668-40e1-929a-63445e851696",
   "metadata": {},
   "outputs": [],
   "source": [
    "from openpyxl import Workbook\n",
    "wb=Workbook()\n",
    "ws1=wb.active\n",
    "\n",
    "for data_row in table:\n",
    "    ws1.append(data_row)\n",
    "\n",
    "wb.save(\"popular-languages.xlsx\")"
   ]
  },
  {
   "cell_type": "code",
   "execution_count": 8,
   "id": "c6725ca3-82f7-4461-9f27-a42916445dcb",
   "metadata": {},
   "outputs": [
    {
     "name": "stdout",
     "output_type": "stream",
     "text": [
      "yearly\n",
      "yearly\n",
      "DataFrame after multiplication:\n",
      "     A        B  C\n",
      "0   36  monthly  3\n",
      "1    6   yearly  5\n",
      "2  156   weekly  5\n",
      "3    4   yearly  6\n"
     ]
    }
   ],
   "source": [
    "import pandas as pd\n",
    "\n",
    "\n",
    "data = {'A': [1, 6, 3, 4],\n",
    "        'B': ['monthly', 'yearly', 'weekly', 'yearly'],\n",
    "        'C': [3, 5, 5, 6]}\n",
    "df = pd.DataFrame(data)\n",
    "\n",
    "\n",
    "for index, row in df.iterrows():\n",
    "    if df.at[index,'B']=='yearly':\n",
    "        print('yearly')\n",
    "    elif df.at[index,'B']=='monthly':\n",
    "        df.at[index,'A'] = df.at[index,'C']*12\n",
    "    elif df.at[index,'B']=='weekly':\n",
    "        df.at[index,'A'] *= 52\n",
    "    \n",
    "\n",
    "print(\"DataFrame after multiplication:\")\n",
    "print(df)"
   ]
  },
  {
   "cell_type": "code",
   "execution_count": null,
   "id": "3c728bf2-a45c-4b1c-beb0-dc5ff627e275",
   "metadata": {},
   "outputs": [],
   "source": []
  }
 ],
 "metadata": {
  "kernelspec": {
   "display_name": "Python 3 (ipykernel)",
   "language": "python",
   "name": "python3"
  },
  "language_info": {
   "codemirror_mode": {
    "name": "ipython",
    "version": 3
   },
   "file_extension": ".py",
   "mimetype": "text/x-python",
   "name": "python",
   "nbconvert_exporter": "python",
   "pygments_lexer": "ipython3",
   "version": "3.12.2"
  }
 },
 "nbformat": 4,
 "nbformat_minor": 5
}
