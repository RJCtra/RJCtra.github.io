{
 "cells": [
  {
   "cell_type": "code",
   "execution_count": 1,
   "id": "5d1059cb-e5c3-42fc-b580-3abb3b9d207c",
   "metadata": {},
   "outputs": [
    {
     "data": {
      "text/plain": [
       "660"
      ]
     },
     "execution_count": 1,
     "metadata": {},
     "output_type": "execute_result"
    }
   ],
   "source": [
    "import pandas as pd\n",
    "import sqlite3\n",
    "data=pd.read_csv('./Screening.csv')\n",
    "conn=sqlite3.connect('Screening.db')\n",
    "data.to_sql('Screening',conn)"
   ]
  },
  {
   "cell_type": "code",
   "execution_count": null,
   "id": "a64e1f25-8e3a-44ef-be38-2083b32f756f",
   "metadata": {},
   "outputs": [],
   "source": [
    "df=pd.read_sql(\"SELECT * FROM Screening"
   ]
  }
 ],
 "metadata": {
  "kernelspec": {
   "display_name": "Python 3 (ipykernel)",
   "language": "python",
   "name": "python3"
  },
  "language_info": {
   "codemirror_mode": {
    "name": "ipython",
    "version": 3
   },
   "file_extension": ".py",
   "mimetype": "text/x-python",
   "name": "python",
   "nbconvert_exporter": "python",
   "pygments_lexer": "ipython3",
   "version": "3.12.2"
  }
 },
 "nbformat": 4,
 "nbformat_minor": 5
}
